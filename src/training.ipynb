{
 "cells": [
  {
   "cell_type": "code",
<<<<<<< HEAD
   "execution_count": 1,
=======
   "execution_count": 22,
>>>>>>> parent of ef7a3b6 (testing)
   "metadata": {},
   "outputs": [],
   "source": [
    "import pandas as pd\n",
    "import numpy as np\n",
    "import scipy as sp\n",
    "\n",
    "from Features import Features\n",
    "import pickle\n",
    "import datetime\n",
    "\n",
    "from sklearn.ensemble import RandomForestClassifier"
   ]
  },
  {
   "cell_type": "markdown",
   "metadata": {},
   "source": [
    "## Training the feature extraction "
   ]
  },
  {
   "cell_type": "code",
<<<<<<< HEAD
   "execution_count": 2,
=======
   "execution_count": 23,
>>>>>>> parent of ef7a3b6 (testing)
   "metadata": {},
   "outputs": [],
   "source": [
    "train_csv_path = '../data/mbti_full_pull_half_train.csv'\n",
    "df = pd.read_csv(train_csv_path, index_col=0)"
   ]
  },
  {
   "cell_type": "code",
<<<<<<< HEAD
   "execution_count": 3,
=======
   "execution_count": 24,
>>>>>>> parent of ef7a3b6 (testing)
   "metadata": {},
   "outputs": [
    {
     "data": {
      "text/html": [
       "<div>\n",
       "<style scoped>\n",
       "    .dataframe tbody tr th:only-of-type {\n",
       "        vertical-align: middle;\n",
       "    }\n",
       "\n",
       "    .dataframe tbody tr th {\n",
       "        vertical-align: top;\n",
       "    }\n",
       "\n",
       "    .dataframe thead th {\n",
       "        text-align: right;\n",
       "    }\n",
       "</style>\n",
       "<table border=\"1\" class=\"dataframe\">\n",
       "  <thead>\n",
       "    <tr style=\"text-align: right;\">\n",
       "      <th></th>\n",
       "      <th>body</th>\n",
       "    </tr>\n",
       "    <tr>\n",
       "      <th>mbti_type</th>\n",
       "      <th></th>\n",
       "    </tr>\n",
       "  </thead>\n",
       "  <tbody>\n",
       "    <tr>\n",
       "      <th>ENFJ</th>\n",
<<<<<<< HEAD
       "      <td>3279</td>\n",
       "    </tr>\n",
       "    <tr>\n",
       "      <th>ENFP</th>\n",
       "      <td>10000</td>\n",
       "    </tr>\n",
       "    <tr>\n",
       "      <th>ENTJ</th>\n",
       "      <td>6614</td>\n",
       "    </tr>\n",
       "    <tr>\n",
       "      <th>ENTP</th>\n",
       "      <td>10000</td>\n",
       "    </tr>\n",
       "    <tr>\n",
       "      <th>ESFJ</th>\n",
       "      <td>346</td>\n",
       "    </tr>\n",
       "    <tr>\n",
       "      <th>ESFP</th>\n",
       "      <td>695</td>\n",
=======
       "      <td>1</td>\n",
       "    </tr>\n",
       "    <tr>\n",
       "      <th>ENFP</th>\n",
       "      <td>11</td>\n",
       "    </tr>\n",
       "    <tr>\n",
       "      <th>ENTJ</th>\n",
       "      <td>6</td>\n",
       "    </tr>\n",
       "    <tr>\n",
       "      <th>ENTP</th>\n",
       "      <td>26</td>\n",
       "    </tr>\n",
       "    <tr>\n",
       "      <th>ESFP</th>\n",
       "      <td>1</td>\n",
>>>>>>> parent of ef7a3b6 (testing)
       "    </tr>\n",
       "    <tr>\n",
       "      <th>ESTJ</th>\n",
       "      <td>1043</td>\n",
       "    </tr>\n",
       "    <tr>\n",
       "      <th>ESTP</th>\n",
<<<<<<< HEAD
       "      <td>3757</td>\n",
       "    </tr>\n",
       "    <tr>\n",
       "      <th>INFJ</th>\n",
       "      <td>10000</td>\n",
       "    </tr>\n",
       "    <tr>\n",
       "      <th>INFP</th>\n",
       "      <td>10000</td>\n",
       "    </tr>\n",
       "    <tr>\n",
       "      <th>INTJ</th>\n",
       "      <td>10000</td>\n",
       "    </tr>\n",
       "    <tr>\n",
       "      <th>INTP</th>\n",
       "      <td>10000</td>\n",
       "    </tr>\n",
       "    <tr>\n",
       "      <th>ISFJ</th>\n",
       "      <td>1146</td>\n",
=======
       "      <td>2</td>\n",
       "    </tr>\n",
       "    <tr>\n",
       "      <th>INFJ</th>\n",
       "      <td>27</td>\n",
       "    </tr>\n",
       "    <tr>\n",
       "      <th>INFP</th>\n",
       "      <td>22</td>\n",
       "    </tr>\n",
       "    <tr>\n",
       "      <th>INTJ</th>\n",
       "      <td>42</td>\n",
       "    </tr>\n",
       "    <tr>\n",
       "      <th>INTP</th>\n",
       "      <td>49</td>\n",
       "    </tr>\n",
       "    <tr>\n",
       "      <th>ISFJ</th>\n",
       "      <td>3</td>\n",
>>>>>>> parent of ef7a3b6 (testing)
       "    </tr>\n",
       "    <tr>\n",
       "      <th>ISFP</th>\n",
       "      <td>1453</td>\n",
       "    </tr>\n",
       "    <tr>\n",
       "      <th>ISTJ</th>\n",
       "      <td>2380</td>\n",
       "    </tr>\n",
       "    <tr>\n",
       "      <th>ISTJ</th>\n",
       "      <td>1</td>\n",
       "    </tr>\n",
       "    <tr>\n",
       "      <th>ISTP</th>\n",
<<<<<<< HEAD
       "      <td>7209</td>\n",
=======
       "      <td>7</td>\n",
>>>>>>> parent of ef7a3b6 (testing)
       "    </tr>\n",
       "  </tbody>\n",
       "</table>\n",
       "</div>"
      ],
      "text/plain": [
<<<<<<< HEAD
       "            body\n",
       "mbti_type       \n",
       "ENFJ        3279\n",
       "ENFP       10000\n",
       "ENTJ        6614\n",
       "ENTP       10000\n",
       "ESFJ         346\n",
       "ESFP         695\n",
       "ESTJ        1043\n",
       "ESTP        3757\n",
       "INFJ       10000\n",
       "INFP       10000\n",
       "INTJ       10000\n",
       "INTP       10000\n",
       "ISFJ        1146\n",
       "ISFP        1453\n",
       "ISTJ        2380\n",
       "ISTP        7209"
      ]
     },
     "execution_count": 3,
=======
       "           body\n",
       "mbti_type      \n",
       "ENFJ          1\n",
       "ENFP         11\n",
       "ENTJ          6\n",
       "ENTP         26\n",
       "ESFP          1\n",
       "ESTJ          1\n",
       "ESTP          2\n",
       "INFJ         27\n",
       "INFP         22\n",
       "INTJ         42\n",
       "INTP         49\n",
       "ISFJ          3\n",
       "ISFP          1\n",
       "ISTJ          1\n",
       "ISTP          7"
      ]
     },
     "execution_count": 24,
>>>>>>> parent of ef7a3b6 (testing)
     "metadata": {},
     "output_type": "execute_result"
    }
   ],
   "source": [
    "# this is reducing the size of the training dataset\n",
    "new_indices = []\n",
    "for k,group in df.groupby([\"mbti_type\"]).groups.items():\n",
    "    if len(group) > 10000:\n",
    "        new_indices.extend(group[:10000])\n",
    "    else:\n",
    "        new_indices.extend(group)\n",
    "df = df.loc[new_indices]\n",
    "df.groupby(['mbti_type']).count()"
   ]
  },
  {
   "cell_type": "code",
<<<<<<< HEAD
   "execution_count": 4,
=======
   "execution_count": 25,
>>>>>>> parent of ef7a3b6 (testing)
   "metadata": {},
   "outputs": [
    {
     "name": "stdout",
     "output_type": "stream",
     "text": [
      "cleaning the copora\n",
      "building tfidf model\n",
      "building lda topic model\n",
      "model built, saving it\n",
      "model saved at:\n"
     ]
    }
   ],
   "source": [
    "modelName = '../models/features2021-12-13.model'\n",
    "\n",
    "try:\n",
    "    # the model can be loaded\n",
    "    with open(modelName,'rb') as f:\n",
    "        feature_extractor = pickle.load(f)\n",
    "except:\n",
    "    # training the model\n",
    "    feature_extractor = Features(df.body, '../data/stopwords.txt')\n",
    "    feature_extractor.build_model()"
   ]
  },
  {
   "cell_type": "markdown",
   "metadata": {},
   "source": [
    "# Training the first layers"
   ]
  },
  {
   "cell_type": "markdown",
   "metadata": {},
   "source": [
    "## enumerating all the cognitive functions (With repeats)\n"
   ]
  },
  {
   "cell_type": "code",
<<<<<<< HEAD
   "execution_count": 5,
=======
   "execution_count": 26,
>>>>>>> parent of ef7a3b6 (testing)
   "metadata": {},
   "outputs": [
    {
     "name": "stdout",
     "output_type": "stream",
     "text": [
      "I___\tE___\t_N__\t_S__\t__T_\t__F_\t___J\t___P\tIN__\tIS__\tEN__\tES__\tI_T_\tI_F_\tE_T_\tE_F_\tI__J\tI__P\tE__J\tE__P\t_NT_\t_NF_\t_ST_\t_SF_\t_N_J\t_N_P\t_S_J\t_S_P\t__TJ\t__TP\t__FJ\t__FP\tINT_\tINF_\tIST_\tISF_\tENT_\tENF_\tEST_\tESF_\tIN_J\tIN_P\tIS_J\tIS_P\tEN_J\tEN_P\tES_J\tES_P\tI_TJ\tI_TP\tI_FJ\tI_FP\tE_TJ\tE_TP\tE_FJ\tE_FP\t_NTJ\t_NTP\t_NFJ\t_NFP\t_STJ\t_STP\t_SFJ\t_SFP\tINTJ\tINTP\tINFJ\tINFP\tISTJ\tISTP\tISFJ\tISFP\tENTJ\tENTP\tENFJ\tENFP\tESTJ\tESTP\tESFJ\tESFP\n",
      "80\n"
     ]
    }
   ],
   "source": [
    "from itertools import combinations\n",
    "\n",
    "types = ['IE','NS','TF','JP']\n",
    "\n",
    "deg1 = []\n",
    "\n",
    "for i in types:\n",
    "    for ii in i:\n",
    "        deg1.append(ii)\n",
    "\n",
    "deg2 = []\n",
    "for i,j, in combinations(types,2):\n",
    "    for ii in i:\n",
    "        for jj in j:\n",
    "            deg2.append(ii+jj)  \n",
    "\n",
    "deg3 = []\n",
    "for i,j,k in combinations(types,3):\n",
    "    for ii in i:\n",
    "        for jj in j:\n",
    "            for kk in k:\n",
    "                deg3.append(ii+jj+kk)\n",
    "\n",
    "deg4 = []\n",
    "for i,j,k,l in combinations(types,4):\n",
    "    for ii in i:\n",
    "        for jj in j:\n",
    "            for kk in k:\n",
    "                for ll in l:\n",
    "                    deg4.append(ii+jj+kk+ll)\n",
    "\n",
    "cog_funs = deg1 + deg2 + deg3 + deg4\n",
    "\n",
    "def normalize(s):\n",
    "    ret = ''\n",
    "    for type in types:\n",
    "        if type[0] in s:\n",
    "            ret += type[0]\n",
    "        elif type[1] in s:\n",
    "            ret += type[1]\n",
    "        else:\n",
    "            ret += '_'\n",
    "    return ret\n",
    "\n",
    "cog_funs = list(map(normalize,cog_funs))\n",
    "print('\\t'.join(cog_funs))\n",
    "print(len(cog_funs))\n",
    "cog_funs = {i:None for i in cog_funs}"
   ]
  },
  {
   "cell_type": "markdown",
   "metadata": {},
   "source": [
    "There are repeating elements in the above listed cog_funs, such as 'I___' and 'E___' are really the same thing, and I choose not to handle this repeatition.  "
   ]
  },
  {
   "cell_type": "markdown",
   "metadata": {},
   "source": [
    "Now, what's left to do is to have feature extractions and then train binary classifier for each cognitive functions. "
   ]
  },
  {
   "cell_type": "markdown",
   "metadata": {},
   "source": [
    "Suppose the feature extraction is trained and stored in a ../models/features______.model"
   ]
  },
  {
   "cell_type": "code",
<<<<<<< HEAD
   "execution_count": 6,
=======
   "execution_count": 27,
>>>>>>> parent of ef7a3b6 (testing)
   "metadata": {},
   "outputs": [],
   "source": [
    "def check_match(y,y_):\n",
    "    for i,j in enumerate(y_):\n",
    "        if j == '_':\n",
    "            pass\n",
    "        elif j == y[i]:\n",
    "            pass\n",
    "        else:\n",
    "            return 0\n",
    "    return 1"
   ]
  },
  {
   "cell_type": "code",
<<<<<<< HEAD
   "execution_count": 7,
=======
   "execution_count": 28,
>>>>>>> parent of ef7a3b6 (testing)
   "metadata": {},
   "outputs": [
    {
     "data": {
      "text/plain": [
       "(1, 0)"
      ]
     },
<<<<<<< HEAD
     "execution_count": 7,
=======
     "execution_count": 28,
>>>>>>> parent of ef7a3b6 (testing)
     "metadata": {},
     "output_type": "execute_result"
    }
   ],
   "source": [
    "check_match('INTJ','_NT_'), check_match('INTJ','E___')"
   ]
  },
  {
   "cell_type": "markdown",
   "metadata": {},
   "source": [
    "## Training the first layer model"
   ]
  },
  {
   "cell_type": "code",
<<<<<<< HEAD
   "execution_count": 8,
=======
   "execution_count": 29,
>>>>>>> parent of ef7a3b6 (testing)
   "metadata": {},
   "outputs": [],
   "source": [
    "modelNameSuffix = '2021-12-13'\n",
    "\n",
    "train_X = feature_extractor.get_features(df.body)\n",
    "train_y = df.mbti_type"
   ]
  },
  {
   "cell_type": "code",
<<<<<<< HEAD
   "execution_count": 9,
=======
   "execution_count": 30,
>>>>>>> parent of ef7a3b6 (testing)
   "metadata": {},
   "outputs": [
    {
     "name": "stdout",
     "output_type": "stream",
     "text": [
      "I___ training completed\tE___ training completed\t_N__ training completed\t_S__ training completed\t__T_ training completed\t__F_ training completed\t___J training completed\t___P training completed\tIN__ training completed\tIS__ training completed\tEN__ training completed\tES__ training completed\tI_T_ training completed\tI_F_ training completed\tE_T_ training completed\tE_F_ training completed\tI__J training completed\tI__P training completed\tE__J training completed\tE__P training completed\t_NT_ training completed\t_NF_ training completed\t_ST_ training completed\t_SF_ training completed\t_N_J training completed\t_N_P training completed\t_S_J training completed\t_S_P training completed\t__TJ training completed\t__TP training completed\t__FJ training completed\t__FP training completed\tINT_ training completed\tINF_ training completed\tIST_ training completed\tISF_ training completed\tENT_ training completed\tENF_ training completed\tEST_ training completed\tESF_ training completed\tIN_J training completed\tIN_P training completed\tIS_J training completed\tIS_P training completed\tEN_J training completed\tEN_P training completed\tES_J training completed\tES_P training completed\tI_TJ training completed\tI_TP training completed\tI_FJ training completed\tI_FP training completed\tE_TJ training completed\tE_TP training completed\tE_FJ training completed\tE_FP training completed\t_NTJ training completed\t_NTP training completed\t_NFJ training completed\t_NFP training completed\t_STJ training completed\t_STP training completed\t_SFJ training completed\t_SFP training completed\tINTJ training completed\tINTP training completed\tINFJ training completed\tINFP training completed\tISTJ training completed\tISTP training completed\tISFJ training completed\tISFP training completed\tENTJ training completed\tENTP training completed\tENFJ training completed\tENFP training completed\tESTJ training completed\tESTP training completed\tESFJ training completed\tESFP training completed\t"
     ]
    }
   ],
   "source": [
    "for model in cog_funs.keys():\n",
    "    \n",
    "    train_yy = [check_match(i,model) for i in train_y]\n",
    "    \n",
    "    classifier = RandomForestClassifier(n_estimators=10)\n",
    "    \n",
    "    classifier.fit(train_X, train_yy)\n",
    "    \n",
    "    with open('../models/first_layer/'  + model + modelNameSuffix + '.model','wb') as f:\n",
    "        pickle.dump(classifier,f)\n",
    "        cog_funs[model] = classifier\n",
    "    print(model +' training completed', end='\\t')"
   ]
  },
  {
   "cell_type": "markdown",
   "metadata": {},
   "source": [
    "## import test data"
   ]
  },
  {
   "cell_type": "code",
<<<<<<< HEAD
   "execution_count": 10,
=======
   "execution_count": 31,
>>>>>>> parent of ef7a3b6 (testing)
   "metadata": {},
   "outputs": [],
   "source": [
    "test_df = pd.read_csv('../data/mbti_full_pull_half_test.csv')"
   ]
  },
  {
   "cell_type": "code",
<<<<<<< HEAD
   "execution_count": 11,
=======
   "execution_count": 32,
>>>>>>> parent of ef7a3b6 (testing)
   "metadata": {},
   "outputs": [],
   "source": [
    "test_X = feature_extractor.get_features(test_df.body)\n",
    "test_y = test_df.mbti_type"
   ]
  },
  {
   "cell_type": "code",
   "execution_count": 12,
   "metadata": {},
   "outputs": [],
   "source": [
    "def test(cog):\n",
    "    with open(\"../models/first_layer/\"+cog+modelNameSuffix + '.model','rb') as f:\n",
    "        model = pickle.load(f)\n",
    "    predict_y = model.predict(test_X)\n",
    "    counter = 0\n",
    "    test_yy = [check_match(cog, c) for c in  test_y]\n",
    "    for x,y in zip(test_yy, predict_y):\n",
    "        if x==y:\n",
    "            counter+=1;\n",
    "    print(counter/len(predict_y))        "
   ]
  },
  {
   "cell_type": "code",
   "execution_count": 13,
   "metadata": {},
   "outputs": [
    {
     "name": "stdout",
     "output_type": "stream",
     "text": [
      "I___:\t0.3234155513770601\n",
      "E___:\t0.8311396231980238\n",
      "_N__:\t0.06142388378866644\n",
      "_S__:\t0.973085573129816\n",
      "__T_:\t0.4149246027356856\n",
      "__F_:\t0.7564428713637872\n",
      "___J:\t0.8115252737529034\n",
      "___P:\t0.3654094311101279\n",
      "IN__:\t0.6432916712753014\n",
      "IS__:\t0.9900822180437268\n",
      "EN__:\t0.8994948936327103\n",
      "ES__:\t0.9966449139107031\n",
      "I_T_:\t0.8751244331379272\n",
      "I_F_:\t0.9507060428418685\n",
      "E_T_:\t0.9623935405375511\n",
      "E_F_:\t0.9858422740847251\n",
      "I__J:\t0.9350366847325149\n",
      "I__P:\t0.8860376801976183\n",
      "E__J:\t0.9893079674077351\n",
      "E__P:\t0.9425211075471003\n",
      "_NT_:\t0.7412159421892859\n",
      "_NF_:\t0.8262360358367438\n",
      "_ST_:\t0.9833720458651329\n",
      "_SF_:\t0.9995207019872433\n",
      "_N_J:\t0.8799174132654942\n",
      "_N_P:\t0.6928805810566677\n",
      "_S_J:\t0.9989307967407736\n",
      "_S_P:\t0.9835932603325591\n",
      "__TJ:\t0.9609925155771855\n",
      "__TP:\t0.865612211038602\n",
      "__FJ:\t0.9846255945138812\n",
      "__FP:\t0.9539873907753567\n",
      "INT_:\t0.9534343546067913\n",
      "INF_:\t0.9657117575489437\n",
      "IST_:\t0.9933266968993105\n",
      "ISF_:\t0.9992626184419128\n",
      "ENT_:\t0.9810861630350625\n",
      "ENF_:\t0.988791800317074\n",
      "EST_:\t0.996128746820042\n",
      "ESF_:\t0.9999631309220957\n",
      "IN_J:\t0.9583748110459758\n",
      "IN_P:\t0.9564944880728533\n",
      "IS_J:\t0.999483832909339\n",
      "IS_P:\t0.9930317442760757\n",
      "EN_J:\t0.9913726357703794\n",
      "EN_P:\t0.9685875456254839\n",
      "ES_J:\t0.999594440143052\n",
      "ES_P:\t0.9969029974560336\n",
      "I_TJ:\t0.9867271319544298\n",
      "I_TP:\t0.9672602588209269\n",
      "I_FJ:\t0.9911514213029532\n",
      "I_FP:\t0.9903034325111529\n",
      "E_TJ:\t0.9929211370423626\n",
      "E_TP:\t0.9874645135125171\n",
      "E_FJ:\t0.9989307967407736\n",
      "E_FP:\t0.9938059949120672\n",
      "_NTJ:\t0.9766250046086348\n",
      "_NTP:\t0.9585591564354975\n",
      "_NFJ:\t0.9859528813184383\n",
      "_NFP:\t0.9690668436382406\n",
      "_STJ:\t0.9987464513512517\n",
      "_STP:\t0.9871326918113777\n",
      "_SFJ:\t0.9998156546104782\n",
      "_SFP:\t0.9994469638314346\n",
      "INTJ:\t0.7767946023669948\n",
      "INTP:\t0.7785274490284998\n",
      "INFJ:\t0.8506802344873354\n",
      "INFP:\t0.8938907937912473\n",
      "ISTJ:\t0.9893817055635439\n",
      "ISTP:\t0.9707996902997456\n",
      "ISFJ:\t0.9940272093794934\n",
      "ISFP:\t0.9943221620027283\n",
      "ENTJ:\t0.9750765033366515\n",
      "ENTP:\t0.8959554621538915\n",
      "ENFJ:\t0.9861003576300557\n",
      "ENFP:\t0.9416731187552999\n",
      "ESTJ:\t0.9963130922095639\n",
      "ESTP:\t0.9846624635917856\n",
      "ESFJ:\t0.9985989750396342\n",
      "ESFP:\t0.9969767356118423\n"
     ]
    }
   ],
   "source": [
    "for cog in cog_funs:\n",
    "    print(cog,end=':\\t')\n",
    "    test(cog)"
   ]
  },
  {
   "cell_type": "code",
   "execution_count": 14,
   "metadata": {},
   "outputs": [],
   "source": [
    "def cf_predict(train_X):\n",
    "    return np.array([cog_funs[model].predict_proba(train_X)[:,0] \\\n",
    "        for model in sorted(list(cog_funs))]).T"
   ]
  },
  {
   "cell_type": "markdown",
   "metadata": {},
   "source": [
    "# The second layer model: random forest\n",
    "\n",
    "The inputs of the second layer model should be\n",
    "- ✔ cognitive functions, there are roughly 80 of them. With a bigger weight\n",
    "- ❌ the features. \n",
    "\n",
    "We have imagined to use a second layer as a NN, which takes both the cognitive functions and the features. However, we realized that NN is too costly and really not necessary, as we have a first layer with incredible accuracy. So we will use a simple _random forest_ for the second layer. \n"
   ]
  },
  {
   "cell_type": "code",
   "execution_count": 15,
   "metadata": {},
   "outputs": [],
   "source": [
    "mbti_types = ['ENFJ','ENFP','ENTJ','ENTP','ESFJ','ESFP','ESTJ','ESTP',\n",
    "    'INFJ','INFP','INTJ','INTP','ISFJ','ISFP','ISTJ','ISTP']\n",
    "type2int = {t:i for i,t in enumerate(mbti_types)}\n",
    "int2type = {i:t for i,t in enumerate(mbti_types)}\n",
    "\n",
    "train_y2 = train_y.apply(lambda x:type2int[x]).values\n",
    "test_y2  = test_y.apply(lambda x:type2int[x]).values\n",
    "\n",
    "train_X2 = cf_predict(train_X)\n",
    "test_X2  = cf_predict(test_X)"
   ]
  },
  {
   "cell_type": "code",
   "execution_count": 25,
   "metadata": {},
   "outputs": [
    {
     "data": {
      "text/plain": [
       "array([[1. , 1. , 0.8, ..., 0.1, 0.7, 0.3],\n",
       "       [1. , 0.9, 0.9, ..., 0.4, 0.8, 0.6],\n",
       "       [0.8, 1. , 0.8, ..., 0.5, 0.5, 0.4],\n",
       "       ...,\n",
       "       [1. , 0.8, 0.9, ..., 0.5, 0.6, 0.5],\n",
       "       [1. , 1. , 0.9, ..., 0.3, 0.7, 0.1],\n",
       "       [1. , 1. , 0.9, ..., 0.4, 0.6, 0.2]])"
      ]
     },
     "execution_count": 25,
     "metadata": {},
     "output_type": "execute_result"
    }
   ],
   "source": []
  },
  {
   "cell_type": "code",
   "execution_count": 26,
   "metadata": {},
   "outputs": [
    {
     "data": {
      "text/plain": [
       "RandomForestClassifier()"
      ]
     },
     "execution_count": 26,
     "metadata": {},
     "output_type": "execute_result"
    }
   ],
   "source": [
    "second_layer_classifier = RandomForestClassifier(n_estimators=100)\n",
    "second_layer_classifier.fit(train_X2,train_y2)"
   ]
  },
  {
   "cell_type": "code",
   "execution_count": 27,
   "metadata": {},
   "outputs": [
    {
     "data": {
      "text/plain": [
       "0.36260738118939645"
      ]
     },
     "execution_count": 27,
     "metadata": {},
     "output_type": "execute_result"
    }
   ],
   "source": [
    "from sklearn.metrics import accuracy_score\n",
    "accuracy_score(test_y2, second_layer_classifier.predict(test_X2))"
   ]
  }
 ],
 "metadata": {
  "interpreter": {
   "hash": "31f2aee4e71d21fbe5cf8b01ff0e069b9275f58929596ceb00d14d90e3e16cd6"
  },
  "kernelspec": {
   "display_name": "Python 3.8.10 64-bit",
   "language": "python",
   "name": "python3"
  },
  "language_info": {
   "codemirror_mode": {
    "name": "ipython",
    "version": 3
   },
   "file_extension": ".py",
   "mimetype": "text/x-python",
   "name": "python",
   "nbconvert_exporter": "python",
   "pygments_lexer": "ipython3",
   "version": "3.10.0"
  },
  "orig_nbformat": 4
 },
 "nbformat": 4,
 "nbformat_minor": 2
}
