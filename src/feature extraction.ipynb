{
 "cells": [
  {
   "cell_type": "code",
   "execution_count": 37,
   "metadata": {},
   "outputs": [],
   "source": [
    "import pandas as pd\n",
    "from sklearn.feature_extraction.text import CountVectorizer, TfidfTransformer\n",
    "import re\n",
    "import string\n",
    "from nltk.corpus import stopwords"
   ]
  },
  {
   "cell_type": "markdown",
   "metadata": {},
   "source": [
    "We are using the following features\n",
    "- TfIdf score\n",
    "- topic frequency\n",
    "- emoticons"
   ]
  },
  {
   "cell_type": "markdown",
   "metadata": {},
   "source": [
    "## tfidf\n",
    "\n"
   ]
  },
  {
   "cell_type": "code",
   "execution_count": 1,
   "metadata": {},
   "outputs": [],
   "source": []
  },
  {
   "cell_type": "markdown",
   "metadata": {},
   "source": [
    "am, is, are, ---> be. "
   ]
  },
  {
   "cell_type": "code",
   "execution_count": 21,
   "metadata": {},
   "outputs": [],
   "source": [
    "train_csv_path = '../data/development.csv'\n",
    "train_df = pd.read_csv(train_csv_path,index_col=0)"
   ]
  },
  {
   "cell_type": "code",
   "execution_count": 22,
   "metadata": {},
   "outputs": [
    {
     "data": {
      "text/html": [
       "<div>\n",
       "<style scoped>\n",
       "    .dataframe tbody tr th:only-of-type {\n",
       "        vertical-align: middle;\n",
       "    }\n",
       "\n",
       "    .dataframe tbody tr th {\n",
       "        vertical-align: top;\n",
       "    }\n",
       "\n",
       "    .dataframe thead th {\n",
       "        text-align: right;\n",
       "    }\n",
       "</style>\n",
       "<table border=\"1\" class=\"dataframe\">\n",
       "  <thead>\n",
       "    <tr style=\"text-align: right;\">\n",
       "      <th></th>\n",
       "      <th>body</th>\n",
       "      <th>type</th>\n",
       "      <th>body len</th>\n",
       "      <th>body char len</th>\n",
       "      <th>subreddit</th>\n",
       "    </tr>\n",
       "  </thead>\n",
       "  <tbody>\n",
       "    <tr>\n",
       "      <th>95748</th>\n",
       "      <td>Be open-minded and genuinely interested in oth...</td>\n",
       "      <td>ENFJ</td>\n",
       "      <td>138</td>\n",
       "      <td>730</td>\n",
       "      <td>enfj</td>\n",
       "    </tr>\n",
       "    <tr>\n",
       "      <th>626910</th>\n",
       "      <td>ENFJs need to realize that to take care of oth...</td>\n",
       "      <td>ENFJ</td>\n",
       "      <td>207</td>\n",
       "      <td>1153</td>\n",
       "      <td>enfj</td>\n",
       "    </tr>\n",
       "    <tr>\n",
       "      <th>75943</th>\n",
       "      <td>I know people that are non-pretentious hipster...</td>\n",
       "      <td>ENFJ</td>\n",
       "      <td>213</td>\n",
       "      <td>1264</td>\n",
       "      <td>enfj</td>\n",
       "    </tr>\n",
       "    <tr>\n",
       "      <th>335326</th>\n",
       "      <td>My INTJ partner was trying to help me with col...</td>\n",
       "      <td>ENFJ</td>\n",
       "      <td>142</td>\n",
       "      <td>761</td>\n",
       "      <td>intj</td>\n",
       "    </tr>\n",
       "    <tr>\n",
       "      <th>1387161</th>\n",
       "      <td>Personally, I'm not picky. Really any physical...</td>\n",
       "      <td>ENFJ</td>\n",
       "      <td>69</td>\n",
       "      <td>362</td>\n",
       "      <td>INTP</td>\n",
       "    </tr>\n",
       "    <tr>\n",
       "      <th>...</th>\n",
       "      <td>...</td>\n",
       "      <td>...</td>\n",
       "      <td>...</td>\n",
       "      <td>...</td>\n",
       "      <td>...</td>\n",
       "    </tr>\n",
       "    <tr>\n",
       "      <th>1325016</th>\n",
       "      <td>this is all true. it's an assumption on my par...</td>\n",
       "      <td>ISTP</td>\n",
       "      <td>362</td>\n",
       "      <td>2047</td>\n",
       "      <td>istp</td>\n",
       "    </tr>\n",
       "    <tr>\n",
       "      <th>1747454</th>\n",
       "      <td>lol you guys aren't stereotyped as blind to th...</td>\n",
       "      <td>ISTP</td>\n",
       "      <td>59</td>\n",
       "      <td>352</td>\n",
       "      <td>mbti</td>\n",
       "    </tr>\n",
       "    <tr>\n",
       "      <th>83834</th>\n",
       "      <td>I'm around women the same way I'm around men. ...</td>\n",
       "      <td>ISTP</td>\n",
       "      <td>191</td>\n",
       "      <td>1017</td>\n",
       "      <td>istp</td>\n",
       "    </tr>\n",
       "    <tr>\n",
       "      <th>553224</th>\n",
       "      <td>&amp;gt;I've lost a hundred pounds, but I did it f...</td>\n",
       "      <td>ISTP</td>\n",
       "      <td>95</td>\n",
       "      <td>518</td>\n",
       "      <td>INTP</td>\n",
       "    </tr>\n",
       "    <tr>\n",
       "      <th>593954</th>\n",
       "      <td>&amp;gt; So introverts, when you see that us extro...</td>\n",
       "      <td>ISTP</td>\n",
       "      <td>205</td>\n",
       "      <td>1154</td>\n",
       "      <td>mbti</td>\n",
       "    </tr>\n",
       "  </tbody>\n",
       "</table>\n",
       "<p>1600 rows × 5 columns</p>\n",
       "</div>"
      ],
      "text/plain": [
       "                                                      body  type  body len  \\\n",
       "95748    Be open-minded and genuinely interested in oth...  ENFJ       138   \n",
       "626910   ENFJs need to realize that to take care of oth...  ENFJ       207   \n",
       "75943    I know people that are non-pretentious hipster...  ENFJ       213   \n",
       "335326   My INTJ partner was trying to help me with col...  ENFJ       142   \n",
       "1387161  Personally, I'm not picky. Really any physical...  ENFJ        69   \n",
       "...                                                    ...   ...       ...   \n",
       "1325016  this is all true. it's an assumption on my par...  ISTP       362   \n",
       "1747454  lol you guys aren't stereotyped as blind to th...  ISTP        59   \n",
       "83834    I'm around women the same way I'm around men. ...  ISTP       191   \n",
       "553224   &gt;I've lost a hundred pounds, but I did it f...  ISTP        95   \n",
       "593954   &gt; So introverts, when you see that us extro...  ISTP       205   \n",
       "\n",
       "         body char len subreddit  \n",
       "95748              730      enfj  \n",
       "626910            1153      enfj  \n",
       "75943             1264      enfj  \n",
       "335326             761      intj  \n",
       "1387161            362      INTP  \n",
       "...                ...       ...  \n",
       "1325016           2047      istp  \n",
       "1747454            352      mbti  \n",
       "83834             1017      istp  \n",
       "553224             518      INTP  \n",
       "593954            1154      mbti  \n",
       "\n",
       "[1600 rows x 5 columns]"
      ]
     },
     "execution_count": 22,
     "metadata": {},
     "output_type": "execute_result"
    }
   ],
   "source": [
    "train_df"
   ]
  },
  {
   "cell_type": "code",
   "execution_count": 26,
   "metadata": {},
   "outputs": [
    {
     "data": {
      "text/plain": [
       "95748      open minded genuinely interested people think ...\n",
       "626910     enfjs need realize take care others need take ...\n",
       "75943      know people non pretentious hipsters exist mea...\n",
       "335326     intj partner trying help college algebra one t...\n",
       "1387161    personally i picky really physical verbal affe...\n",
       "                                 ...                        \n",
       "1325016    true assumption part assume individuals field ...\n",
       "1747454    lol guys stereotyped blind damage inflict ster...\n",
       "83834      i around women way i around men sense level in...\n",
       "553224      gt i lost hundred pounds me this truth someon...\n",
       "593954      gt introverts see us extroverts get energized...\n",
       "Name: body, Length: 1600, dtype: object"
      ]
     },
     "execution_count": 26,
     "metadata": {},
     "output_type": "execute_result"
    }
   ],
   "source": [
    "def clean(sentence):\n",
    "    # lemmetize,\n",
    "    # stopwords\n",
    "    # handling some words more subtlely\n",
    "    stop_words = stopwords.words(\"english\")\n",
    "    sentence = sentence.lower().encode('ascii', 'ignore').decode()\n",
    "    sentence = ' '.join([word for word in sentence.split(' ') if word not in stop_words])\n",
    "    sentence = re.sub(\"@\\S+\", \" \", sentence)\n",
    "    sentence = re.sub(\"https*\\S+\", \" \", sentence)\n",
    "    sentence = re.sub(\"#\\S+\", \" \", sentence)\n",
    "    sentence = re.sub(\"\\'\\w+\", '', sentence)\n",
    "    sentence = re.sub('[%s]' % re.escape(string.punctuation), ' ', sentence)\n",
    "    sentence= re.sub(r'\\w*\\d+\\w*', '', sentence)\n",
    "    sentence = re.sub('\\s{2,}', \" \", sentence)\n",
    "    return sentence\n",
    "    \n",
    "train_df['body'] = train_df['body'].apply(clean)\n",
    "train_df['body']"
   ]
  },
  {
   "cell_type": "code",
   "execution_count": 18,
   "metadata": {},
   "outputs": [
    {
     "name": "stdout",
     "output_type": "stream",
     "text": [
      "- For any number of reasons, sex always complicates shit. The whole sex-only relationship thing could have a couple of reasons behind it. First, do you think there's a chance you could be aromantic? I've definitely met people who are, and I don't want to dismiss the possibility outright. \n",
      "\n",
      "\n",
      "- If not, there's a possibility that it's an issue of emotional guarding, because letting your guard down leaves open the risk of getting emotionally hurt, and it also takes some control of the situation out of your hands, which I'm figuring isn't something you like. (I sympathise.) Would certainly be an idea worth exploring.\n",
      "\n",
      "\n",
      "- All that said, if you find you have so much going on, you don't think you have time for a proper relationship, since that takes up time and energy that could be better-used elsewhere. If that's the case, you might just be able to find some kind of FWB situation, and one with someone not inclined to sentimentality, since that would make it less likely that things would get complicated. This way, it could be someone you know and trust, and with the knowledge from both parties that this isn't supposed to get all emotional and shit. But, you would also be getting your sex, which is a pretty important part of life for anyone with a significant libido. \n"
     ]
    }
   ],
   "source": [
    "for sentence in train_df['body']:\n",
    "    print(sentence)\n",
    "    break"
   ]
  },
  {
   "cell_type": "code",
   "execution_count": 36,
   "metadata": {},
   "outputs": [
    {
     "data": {
      "text/plain": [
       "0"
      ]
     },
     "execution_count": 36,
     "metadata": {},
     "output_type": "execute_result"
    }
   ],
   "source": [
    "vectornizer = CountVectorizer()  \n",
    "x = vectornizer.fit_transform(train_df['body'])\n",
    "x.toarray()[1][321]"
   ]
  },
  {
   "cell_type": "code",
   "execution_count": 38,
   "metadata": {},
   "outputs": [
    {
     "data": {
      "text/plain": [
       "array([[0., 0., 0., ..., 0., 0., 0.],\n",
       "       [0., 0., 0., ..., 0., 0., 0.],\n",
       "       [0., 0., 0., ..., 0., 0., 0.],\n",
       "       ...,\n",
       "       [0., 0., 0., ..., 0., 0., 0.],\n",
       "       [0., 0., 0., ..., 0., 0., 0.],\n",
       "       [0., 0., 0., ..., 0., 0., 0.]])"
      ]
     },
     "execution_count": 38,
     "metadata": {},
     "output_type": "execute_result"
    }
   ],
   "source": [
    "transformer = TfidfTransformer()  \n",
    "tfidf = transformer.fit_transform(x)  \n",
    "tfidf.toarray()\n"
   ]
  },
  {
   "cell_type": "code",
   "execution_count": 16,
   "metadata": {},
   "outputs": [],
   "source": [
    "# tfidf_model = TfidfTransformer()\n",
    "# tfidf = tfidf_model.fit_transform(X)"
   ]
  }
 ],
 "metadata": {
  "interpreter": {
   "hash": "c8b0ef6db455f9a97736ccf924dd2ad44f2bb81602f7564f06a1f45b8edb0ca8"
  },
  "kernelspec": {
   "display_name": "Python 3.9.7 64-bit ('tc113': conda)",
   "language": "python",
   "name": "python3"
  },
  "language_info": {
   "codemirror_mode": {
    "name": "ipython",
    "version": 3
   },
   "file_extension": ".py",
   "mimetype": "text/x-python",
   "name": "python",
   "nbconvert_exporter": "python",
   "pygments_lexer": "ipython3",
   "version": "3.8.10"
  },
  "orig_nbformat": 4
 },
 "nbformat": 4,
 "nbformat_minor": 2
}
