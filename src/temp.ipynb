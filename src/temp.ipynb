{
 "cells": [
  {
   "cell_type": "code",
   "execution_count": 1,
   "metadata": {},
   "outputs": [
    {
     "name": "stderr",
     "output_type": "stream",
     "text": [
      "/home/haiy/anaconda3/envs/tc113/lib/python3.9/site-packages/gensim/similarities/__init__.py:15: UserWarning: The gensim.similarities.levenshtein submodule is disabled, because the optional Levenshtein package <https://pypi.org/project/python-Levenshtein/> is unavailable. Install Levenhstein (e.g. `pip install python-Levenshtein`) to suppress this warning.\n",
      "  warnings.warn(msg)\n"
     ]
    }
   ],
   "source": [
    "from Features import Features\n",
    "import pandas as pd\n",
    "import numpy as np\n",
    "import pickle"
   ]
  },
  {
   "cell_type": "code",
   "execution_count": 2,
   "metadata": {},
   "outputs": [],
   "source": [
    "df_train = pd.read_csv('../data/development.csv',index_col=0)"
   ]
  },
  {
   "cell_type": "code",
   "execution_count": 3,
   "metadata": {},
   "outputs": [],
   "source": [
    "featureModel = Features(df_train.body, '../data/stopwords.txt')"
   ]
  },
  {
   "cell_type": "code",
   "execution_count": 4,
   "metadata": {},
   "outputs": [
    {
     "name": "stdout",
     "output_type": "stream",
     "text": [
      "cleaning the copora\n",
      "building tfidf model\n",
      "building lda topic model\n",
      "model built, saving it\n",
      "model saved at:\n"
     ]
    },
    {
     "data": {
      "text/plain": [
       "('../models/features2021-12-10.debug', 'wb')"
      ]
     },
     "execution_count": 4,
     "metadata": {},
     "output_type": "execute_result"
    }
   ],
   "source": [
    "featureModel.build_model()"
   ]
  },
  {
   "cell_type": "code",
   "execution_count": 5,
   "metadata": {},
   "outputs": [],
   "source": [
    "features = featureModel.get_features(df_train.body)"
   ]
  },
  {
   "cell_type": "code",
   "execution_count": 14,
   "metadata": {},
   "outputs": [
    {
     "data": {
      "text/plain": [
       "<10x11828 sparse matrix of type '<class 'numpy.float64'>'\n",
       "\twith 648 stored elements in Compressed Sparse Row format>"
      ]
     },
     "execution_count": 14,
     "metadata": {},
     "output_type": "execute_result"
    }
   ],
   "source": [
    "a = featureModel.get_tfidf(df_train.body.sample(10))"
   ]
  },
  {
   "cell_type": "code",
   "execution_count": 12,
   "metadata": {},
   "outputs": [
    {
     "data": {
      "text/plain": [
       "(<1x11828 sparse matrix of type '<class 'numpy.float64'>'\n",
       " \twith 63 stored elements in Compressed Sparse Row format>,\n",
       " array([0, 0, 0, 0, 0, 0, 0, 0, 0, 0, 0, 0, 0, 0, 0, 0, 0, 0, 0, 0, 0, 0,\n",
       "        0, 0, 0, 0, 0, 0, 0, 0, 0, 0, 0, 0, 0, 0, 0, 0, 0, 0, 0, 0, 0, 0,\n",
       "        0, 0, 0, 0, 0, 0, 0, 0, 0, 0, 0, 0, 0, 0, 0, 0, 0, 0, 0, 0, 0, 0,\n",
       "        0, 0, 0, 0, 0, 0, 0, 0, 0, 0, 0, 0, 0, 0, 0, 0, 0, 0, 0, 0, 0, 0,\n",
       "        0, 0, 0, 0, 0, 0, 0, 0, 0, 0, 0, 0, 0, 0, 0, 0, 0, 0, 0, 0, 0, 0,\n",
       "        0, 0, 0, 0, 0, 0, 0, 0, 0, 0, 0, 0, 0, 0, 0, 0, 0, 0, 0, 0, 0, 0,\n",
       "        0, 0, 0, 0, 0, 0, 0, 0, 0, 0, 0, 0, 0, 0, 0, 0, 0, 0, 0, 0, 0, 0,\n",
       "        0, 0, 0, 0, 0, 0, 0, 0, 0, 0, 0, 0, 0, 0, 0, 0, 0, 0, 0, 0, 0, 0,\n",
       "        0, 0, 0, 0, 0, 0, 0, 0, 0, 0, 0, 0, 0, 0, 0, 0, 0, 0, 0, 0, 0, 0,\n",
       "        0, 0, 0, 0, 0, 0, 0, 0, 0, 0, 0, 0, 0, 0, 0, 0, 0, 0, 0, 0, 0, 0]),\n",
       " array([1.6129510e-04, 9.6790224e-01, 1.6129510e-04, 1.6129510e-04,\n",
       "        1.6129510e-04, 1.6129510e-04, 1.6129510e-04, 1.6129510e-04,\n",
       "        1.6129510e-04, 1.6129510e-04, 1.6129510e-04, 1.6129510e-04,\n",
       "        1.6129510e-04, 1.6129510e-04, 1.6129510e-04, 1.6129510e-04,\n",
       "        1.6129510e-04, 1.6129510e-04, 1.6129510e-04, 1.6129510e-04,\n",
       "        1.6129510e-04, 1.6129510e-04, 1.6129510e-04, 1.6129510e-04,\n",
       "        1.6129510e-04, 1.6129510e-04, 1.6129510e-04, 1.6129510e-04,\n",
       "        1.6129510e-04, 1.6129510e-04, 1.6129510e-04, 1.6129510e-04,\n",
       "        1.6129510e-04, 1.6129510e-04, 1.6129510e-04, 1.6129510e-04,\n",
       "        1.6129510e-04, 1.6129510e-04, 1.6129510e-04, 1.6129510e-04,\n",
       "        1.6129510e-04, 1.6129510e-04, 1.6129510e-04, 1.6129510e-04,\n",
       "        1.6129510e-04, 1.6129510e-04, 1.6129510e-04, 1.6129510e-04,\n",
       "        1.6129510e-04, 1.6129510e-04, 1.6129510e-04, 1.6129510e-04,\n",
       "        1.6129510e-04, 1.6129510e-04, 1.6129510e-04, 1.6129510e-04,\n",
       "        1.6129510e-04, 1.6129510e-04, 1.6129510e-04, 1.6129510e-04,\n",
       "        1.6129510e-04, 1.6129510e-04, 1.6129510e-04, 1.6129510e-04,\n",
       "        1.6129510e-04, 1.6129510e-04, 1.6129510e-04, 1.6129510e-04,\n",
       "        1.6129510e-04, 1.6129510e-04, 1.6129510e-04, 1.6129510e-04,\n",
       "        1.6129510e-04, 1.6129510e-04, 1.6129510e-04, 1.6129510e-04,\n",
       "        1.6129510e-04, 1.6129510e-04, 1.6129510e-04, 1.6129510e-04,\n",
       "        1.6129510e-04, 1.6129510e-04, 1.6129510e-04, 1.6129510e-04,\n",
       "        1.6129510e-04, 1.6129510e-04, 1.6129510e-04, 1.6129510e-04,\n",
       "        1.6129510e-04, 1.6129510e-04, 1.6129510e-04, 1.6129510e-04,\n",
       "        1.6129510e-04, 1.6129510e-04, 1.6129510e-04, 1.6129510e-04,\n",
       "        1.6129510e-04, 1.6129510e-04, 1.6129510e-04, 1.6129510e-04,\n",
       "        1.6129510e-04, 1.6129510e-04, 1.6129510e-04, 1.6129510e-04,\n",
       "        1.6129510e-04, 1.6129510e-04, 1.6129510e-04, 1.6129510e-04,\n",
       "        1.6129510e-04, 1.6129510e-04, 1.6129510e-04, 1.6129510e-04,\n",
       "        1.6129510e-04, 1.6129510e-04, 1.6129510e-04, 1.6129510e-04,\n",
       "        1.6129510e-04, 1.6129510e-04, 1.6129510e-04, 1.6129510e-04,\n",
       "        1.6129510e-04, 1.6129510e-04, 1.6129510e-04, 1.6129510e-04,\n",
       "        1.6129510e-04, 1.6129510e-04, 1.6129510e-04, 1.6129510e-04,\n",
       "        1.6129510e-04, 1.6129510e-04, 1.6129510e-04, 1.6129510e-04,\n",
       "        1.6129510e-04, 1.6129510e-04, 1.6129510e-04, 1.6129510e-04,\n",
       "        1.6129510e-04, 1.6129510e-04, 1.6129510e-04, 1.6129510e-04,\n",
       "        1.6129510e-04, 1.6129510e-04, 1.6129510e-04, 1.6129510e-04,\n",
       "        1.6129510e-04, 1.6129510e-04, 1.6129510e-04, 1.6129510e-04,\n",
       "        1.6129510e-04, 1.6129510e-04, 1.6129510e-04, 1.6129510e-04,\n",
       "        1.6129510e-04, 1.6129510e-04, 1.6129510e-04, 1.6129510e-04,\n",
       "        1.6129510e-04, 1.6129510e-04, 1.6129510e-04, 1.6129510e-04,\n",
       "        1.6129510e-04, 1.6129510e-04, 1.6129510e-04, 1.6129510e-04,\n",
       "        1.6129510e-04, 1.6129510e-04, 1.6129510e-04, 1.6129510e-04,\n",
       "        1.6129510e-04, 1.6129510e-04, 1.6129510e-04, 1.6129510e-04,\n",
       "        1.6129510e-04, 1.6129510e-04, 1.6129510e-04, 1.6129510e-04,\n",
       "        1.6129510e-04, 1.6129510e-04, 1.6129510e-04, 1.6129510e-04,\n",
       "        1.6129510e-04, 1.6129510e-04, 1.6129510e-04, 1.6129510e-04,\n",
       "        1.6129510e-04, 1.6129510e-04, 1.6129510e-04, 1.6129510e-04,\n",
       "        1.6129510e-04, 1.6129510e-04, 1.6129510e-04, 1.6129510e-04,\n",
       "        1.6129510e-04, 1.6129510e-04, 1.6129510e-04, 1.6129510e-04,\n",
       "        1.6129510e-04, 1.6129510e-04, 1.6129510e-04, 1.6129510e-04],\n",
       "       dtype=float32))"
      ]
     },
     "execution_count": 12,
     "metadata": {},
     "output_type": "execute_result"
    }
   ],
   "source": [
    "features = list(features)\n",
    "features[3]\n"
   ]
  },
  {
   "cell_type": "code",
   "execution_count": null,
   "metadata": {},
   "outputs": [],
   "source": []
  }
 ],
 "metadata": {
  "interpreter": {
   "hash": "c8b0ef6db455f9a97736ccf924dd2ad44f2bb81602f7564f06a1f45b8edb0ca8"
  },
  "kernelspec": {
   "display_name": "Python 3.9.7 64-bit ('tc113': conda)",
   "language": "python",
   "name": "python3"
  },
  "language_info": {
   "codemirror_mode": {
    "name": "ipython",
    "version": 3
   },
   "file_extension": ".py",
   "mimetype": "text/x-python",
   "name": "python",
   "nbconvert_exporter": "python",
   "pygments_lexer": "ipython3",
   "version": "3.9.7"
  },
  "orig_nbformat": 4
 },
 "nbformat": 4,
 "nbformat_minor": 2
}
