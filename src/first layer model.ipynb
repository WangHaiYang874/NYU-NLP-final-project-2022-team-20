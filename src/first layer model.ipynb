{
 "cells": [
  {
   "cell_type": "code",
   "execution_count": 31,
   "metadata": {},
   "outputs": [],
   "source": [
    "import pickle\n",
    "import pandas as pd\n",
    "from sklearn.ensemble import RandomForestClassifier\n",
    "import datetime"
   ]
  },
  {
   "cell_type": "markdown",
   "metadata": {},
   "source": [
    "# enumerating all the cognitive functions (With repeats)\n"
   ]
  },
  {
   "cell_type": "code",
   "execution_count": 32,
   "metadata": {},
   "outputs": [
    {
     "name": "stdout",
     "output_type": "stream",
     "text": [
      "I___\tE___\t_N__\t_S__\t__T_\t__P_\t___J\t___F\tIN__\tIS__\tEN__\tES__\tI_T_\tI_P_\tE_T_\tE_P_\tI__J\tI__F\tE__J\tE__F\t_NT_\t_NP_\t_ST_\t_SP_\t_N_J\t_N_F\t_S_J\t_S_F\t__TJ\t__TF\t__PJ\t__PF\tINT_\tINP_\tIST_\tISP_\tENT_\tENP_\tEST_\tESP_\tIN_J\tIN_F\tIS_J\tIS_F\tEN_J\tEN_F\tES_J\tES_F\tI_TJ\tI_TF\tI_PJ\tI_PF\tE_TJ\tE_TF\tE_PJ\tE_PF\t_NTJ\t_NTF\t_NPJ\t_NPF\t_STJ\t_STF\t_SPJ\t_SPF\tINTJ\tINTF\tINPJ\tINPF\tISTJ\tISTF\tISPJ\tISPF\tENTJ\tENTF\tENPJ\tENPF\tESTJ\tESTF\tESPJ\tESPF\n",
      "80\n"
     ]
    }
   ],
   "source": [
    "from itertools import combinations\n",
    "\n",
    "types = ['IE','NS','TP','JF']\n",
    "\n",
    "deg1 = []\n",
    "\n",
    "for i in types:\n",
    "    for ii in i:\n",
    "        deg1.append(ii)\n",
    "\n",
    "deg2 = []\n",
    "for i,j, in combinations(types,2):\n",
    "    for ii in i:\n",
    "        for jj in j:\n",
    "            deg2.append(ii+jj)  \n",
    "\n",
    "deg3 = []\n",
    "for i,j,k in combinations(types,3):\n",
    "    for ii in i:\n",
    "        for jj in j:\n",
    "            for kk in k:\n",
    "                deg3.append(ii+jj+kk)\n",
    "\n",
    "deg4 = []\n",
    "for i,j,k,l in combinations(types,4):\n",
    "    for ii in i:\n",
    "        for jj in j:\n",
    "            for kk in k:\n",
    "                for ll in l:\n",
    "                    deg4.append(ii+jj+kk+ll)\n",
    "\n",
    "cog_funs = deg1 + deg2 + deg3 + deg4\n",
    "\n",
    "def normalize(s):\n",
    "    ret = ''\n",
    "    for type in types:\n",
    "        if type[0] in s:\n",
    "            ret += type[0]\n",
    "        elif type[1] in s:\n",
    "            ret += type[1]\n",
    "        else:\n",
    "            ret += '_'\n",
    "    return ret\n",
    "\n",
    "cog_funs = list(map(normalize,cog_funs))\n",
    "print('\\t'.join(cog_funs))\n",
    "print(len(cog_funs))"
   ]
  },
  {
   "cell_type": "markdown",
   "metadata": {},
   "source": [
    "There are repeating elements in the above listed cog_funs, such as 'I___' and 'E___' are really the same thing, and I choose not to handle this repeatition.  "
   ]
  },
  {
   "cell_type": "markdown",
   "metadata": {},
   "source": [
    "Now, what's left to do is to have feature extractions and then train binary classifier for each cognitive functions. "
   ]
  },
  {
   "cell_type": "markdown",
   "metadata": {},
   "source": [
    "Suppose the feature extraction is trained and stored in a ../models/features______.model"
   ]
  },
  {
   "cell_type": "code",
   "execution_count": null,
   "metadata": {},
   "outputs": [],
   "source": [
    "feature_extractor = '../models/features________.model'\n",
    "\n",
    "with open(feature_extractor,'rb') as f:\n",
    "    feature_extractor = pickle.load(f)"
   ]
  },
  {
   "cell_type": "code",
   "execution_count": null,
   "metadata": {},
   "outputs": [],
   "source": [
    "train_df = pd.read_csv('path to training dataset')\n",
    "# this should have 2 cols. one is 'body' and another is 'label'\n",
    "\n",
    "train_X = feature_extractor.get_features(train_df['body'])\n",
    "train_y = train_df['label']"
   ]
  },
  {
   "cell_type": "code",
   "execution_count": 17,
   "metadata": {},
   "outputs": [],
   "source": [
    "def check_match(y,y_):\n",
    "    for i,j in enumerate(y_):\n",
    "        if j == '_':\n",
    "            pass\n",
    "        elif j == y[i]:\n",
    "            pass\n",
    "        else:\n",
    "            return 0\n",
    "    return 1"
   ]
  },
  {
   "cell_type": "code",
   "execution_count": 18,
   "metadata": {},
   "outputs": [
    {
     "data": {
      "text/plain": [
       "(1, 0)"
      ]
     },
     "execution_count": 18,
     "metadata": {},
     "output_type": "execute_result"
    }
   ],
   "source": [
    "check_match('INTJ','_NT_'), check_match('INTJ','E___')"
   ]
  },
  {
   "cell_type": "code",
   "execution_count": 19,
   "metadata": {},
   "outputs": [],
   "source": [
    "classifier = RandomForestClassifier()"
   ]
  },
  {
   "cell_type": "code",
   "execution_count": 20,
   "metadata": {},
   "outputs": [
    {
     "name": "stdout",
     "output_type": "stream",
     "text": [
      "Help on method fit in module sklearn.ensemble._forest:\n",
      "\n",
      "fit(X, y, sample_weight=None) method of sklearn.ensemble._forest.RandomForestClassifier instance\n",
      "    Build a forest of trees from the training set (X, y).\n",
      "    \n",
      "    Parameters\n",
      "    ----------\n",
      "    X : {array-like, sparse matrix} of shape (n_samples, n_features)\n",
      "        The training input samples. Internally, its dtype will be converted\n",
      "        to ``dtype=np.float32``. If a sparse matrix is provided, it will be\n",
      "        converted into a sparse ``csc_matrix``.\n",
      "    \n",
      "    y : array-like of shape (n_samples,) or (n_samples, n_outputs)\n",
      "        The target values (class labels in classification, real numbers in\n",
      "        regression).\n",
      "    \n",
      "    sample_weight : array-like of shape (n_samples,), default=None\n",
      "        Sample weights. If None, then samples are equally weighted. Splits\n",
      "        that would create child nodes with net zero or negative weight are\n",
      "        ignored while searching for a split in each node. In the case of\n",
      "        classification, splits are also ignored if they would result in any\n",
      "        single class carrying a negative weight in either child node.\n",
      "    \n",
      "    Returns\n",
      "    -------\n",
      "    self : object\n",
      "        Fitted estimator.\n",
      "\n"
     ]
    }
   ],
   "source": [
    "help(classifier.fit)"
   ]
  },
  {
   "cell_type": "code",
   "execution_count": null,
   "metadata": {},
   "outputs": [],
   "source": [
    "modelNameSuffix = str(datetime.date.today())"
   ]
  },
  {
   "cell_type": "code",
   "execution_count": null,
   "metadata": {},
   "outputs": [],
   "source": [
    "for model in cog_funs:\n",
    "    \n",
    "    train_yy = [check_match(i,model) for i in train_y]\n",
    "    \n",
    "    classifier = RandomForestClassifier(n_estimators=20)\n",
    "    # fill the parameter of this classifier such as max_depth, etc. Or perhaps use a better classifier? \n",
    "    \n",
    "    classifier.fit(train_X, train_yy)\n",
    "    \n",
    "    with open('../first_layer_models/' + model + modelNameSuffix + '.model','wb') as f:\n",
    "        pickle.dump(classifier,f)\n",
    "    print(model +' training completed')\n",
    "    "
   ]
  },
  {
   "cell_type": "code",
   "execution_count": 28,
   "metadata": {},
   "outputs": [],
   "source": [
    "import os"
   ]
  },
  {
   "cell_type": "code",
   "execution_count": 24,
   "metadata": {},
   "outputs": [
    {
     "data": {
      "text/plain": [
       "['FiFe.pickle',\n",
       " 'FvT.pickle',\n",
       " 'IvE.pickle',\n",
       " 'NeFe.pickle',\n",
       " 'NeFi.pickle',\n",
       " 'NeSe.pickle',\n",
       " 'NeSi.pickle',\n",
       " 'NeTe.pickle',\n",
       " 'NeTi.pickle',\n",
       " 'NiFe.pickle',\n",
       " 'NiFi.pickle',\n",
       " 'NiNe.pickle',\n",
       " 'NiSe.pickle',\n",
       " 'NiSi.pickle',\n",
       " 'NiTe.pickle',\n",
       " 'NiTi.pickle',\n",
       " 'NvS.pickle',\n",
       " 'PvJ.pickle',\n",
       " 'SeFe.pickle',\n",
       " 'SeFi.pickle',\n",
       " 'SeTe.pickle',\n",
       " 'SeTi.pickle',\n",
       " 'SiFe.pickle',\n",
       " 'SiFi.pickle',\n",
       " 'SiSe.pickle',\n",
       " 'SiTe.pickle',\n",
       " 'SiTi.pickle',\n",
       " 'TeFe.pickle',\n",
       " 'TeFi.pickle',\n",
       " 'TiFe.pickle',\n",
       " 'TiFi.pickle',\n",
       " 'TiTe.pickle',\n",
       " 'validation_set.csv']"
      ]
     },
     "execution_count": 24,
     "metadata": {},
     "output_type": "execute_result"
    }
   ],
   "source": [
    "os.listdir('../first_layer_models')"
   ]
  }
 ],
 "metadata": {
  "interpreter": {
   "hash": "c8b0ef6db455f9a97736ccf924dd2ad44f2bb81602f7564f06a1f45b8edb0ca8"
  },
  "kernelspec": {
   "display_name": "Python 3.9.7 64-bit ('tc113': conda)",
   "language": "python",
   "name": "python3"
  },
  "language_info": {
   "codemirror_mode": {
    "name": "ipython",
    "version": 3
   },
   "file_extension": ".py",
   "mimetype": "text/x-python",
   "name": "python",
   "nbconvert_exporter": "python",
   "pygments_lexer": "ipython3",
   "version": "3.9.7"
  },
  "orig_nbformat": 4
 },
 "nbformat": 4,
 "nbformat_minor": 2
}
