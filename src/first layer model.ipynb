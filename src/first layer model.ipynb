{
 "cells": [
  {
   "cell_type": "markdown",
   "metadata": {},
   "source": [
    "# enumerating all the cognitive functions (With repeats)\n"
   ]
  },
  {
   "cell_type": "code",
   "execution_count": 4,
   "metadata": {},
   "outputs": [
    {
     "name": "stdout",
     "output_type": "stream",
     "text": [
      "I___\t_N__\t__T_\t___J\tIN__\tIS__\tEN__\tES__\tI_T_\tI_P_\tE_T_\tE_P_\tI__J\tI__F\tE__J\tE__F\t_NT_\t_NP_\t_ST_\t_SP_\t_N_J\t_N_F\t_S_J\t_S_F\t__TJ\t__TF\t__PJ\t__PF\tINT_\tINP_\tIST_\tISP_\tENT_\tENP_\tEST_\tESP_\tIN_J\tIN_F\tIS_J\tIS_F\tEN_J\tEN_F\tES_J\tES_F\tI_TJ\tI_TF\tI_PJ\tI_PF\tE_TJ\tE_TF\tE_PJ\tE_PF\t_NTJ\t_NTF\t_NPJ\t_NPF\t_STJ\t_STF\t_SPJ\t_SPF\tINTJ\tINTF\tINPJ\tINPF\tISTJ\tISTF\tISPJ\tISPF\tENTJ\tENTF\tENPJ\tENPF\tESTJ\tESTF\tESPJ\tESPF\n"
     ]
    }
   ],
   "source": [
    "from itertools import combinations\n",
    "\n",
    "types = ['IE','NS','TP','JF']\n",
    "\n",
    "deg1 = [i[0] for i, in combinations(types,1)]\n",
    "\n",
    "deg2 = []\n",
    "for i,j, in combinations(types,2):\n",
    "    for ii in i:\n",
    "        for jj in j:\n",
    "            deg2.append(ii+jj)  \n",
    "\n",
    "\n",
    "deg3 = []\n",
    "for i,j,k in combinations(types,3):\n",
    "    for ii in i:\n",
    "        for jj in j:\n",
    "            for kk in k:\n",
    "                deg3.append(ii+jj+kk)\n",
    "\n",
    "deg4 = []\n",
    "for i,j,k,l in combinations(types,4):\n",
    "    for ii in i:\n",
    "        for jj in j:\n",
    "            for kk in k:\n",
    "                for ll in l:\n",
    "                    deg4.append(ii+jj+kk+ll)\n",
    "\n",
    "cog_funs = deg1 + deg2 + deg3 + deg4\n",
    "\n",
    "def normalize(s):\n",
    "    ret = ''\n",
    "    for type in types:\n",
    "        if type[0] in s:\n",
    "            ret += type[0]\n",
    "        elif type[1] in s:\n",
    "            ret += type[1]\n",
    "        else:\n",
    "            ret += '_'\n",
    "    return ret\n",
    "\n",
    "cog_funs = list(map(normalize,cog_funs))\n",
    "print('\\t'.join(cog_fun))"
   ]
  },
  {
   "cell_type": "markdown",
   "metadata": {},
   "source": [
    "Now, what's left to do is to have feature extractions and then train binary classifier for each cognitive functions. "
   ]
  },
  {
   "cell_type": "code",
   "execution_count": null,
   "metadata": {},
   "outputs": [],
   "source": [
    "from sklearn.ensemble import RandomForestClassifier"
   ]
  },
  {
   "cell_type": "code",
   "execution_count": null,
   "metadata": {},
   "outputs": [],
   "source": [
    "\n",
    "def get_features(X):\n",
    "    # todo\n",
    "    pass\n",
    "\n",
    "def tranform_label(cog_fun, type):\n",
    "    for i in range(4):\n",
    "        if cog_fun[i] == '_':\n",
    "            pass\n",
    "        elif cog_fun[i] == type[i]:\n",
    "            pass\n",
    "        else:\n",
    "            return 0\n",
    "    return 1\n",
    "\n",
    "def get_models(Xtrain, ytrain):\n",
    "    models = dict()\n",
    "\n",
    "    for cog_fun in cog_funs:\n",
    "        \n",
    "        features = get_features(Xtrain)\n",
    "        labels = list(map(lambda x: tranform_label(cog_fun,x)), ytrain)\n",
    "        \n",
    "        clf = RandomForestClassifier()\n",
    "        clf.fit(features,labels)\n",
    "        \n",
    "        models[cog_fun] = clf\n",
    "    \n",
    "    return models"
   ]
  }
 ],
 "metadata": {
  "interpreter": {
   "hash": "c8b0ef6db455f9a97736ccf924dd2ad44f2bb81602f7564f06a1f45b8edb0ca8"
  },
  "kernelspec": {
   "display_name": "Python 3.9.7 64-bit ('tc113': conda)",
   "language": "python",
   "name": "python3"
  },
  "language_info": {
   "codemirror_mode": {
    "name": "ipython",
    "version": 3
   },
   "file_extension": ".py",
   "mimetype": "text/x-python",
   "name": "python",
   "nbconvert_exporter": "python",
   "pygments_lexer": "ipython3",
   "version": "3.9.7"
  },
  "orig_nbformat": 4
 },
 "nbformat": 4,
 "nbformat_minor": 2
}
